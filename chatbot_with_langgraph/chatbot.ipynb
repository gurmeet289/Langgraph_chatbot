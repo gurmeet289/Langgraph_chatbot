{
 "cells": [
  {
   "cell_type": "code",
   "execution_count": 1,
   "metadata": {},
   "outputs": [
    {
     "name": "stdout",
     "output_type": "stream",
     "text": [
      "GROQ_API_KEY loaded: gsk_...\n"
     ]
    }
   ],
   "source": [
    "import os\n",
    "from dotenv import load_dotenv\n",
    "\n",
    "# Load environment variables from .env file\n",
    "load_dotenv()\n",
    "\n",
    "# Access the API key\n",
    "GROQ_API_KEY = os.getenv(\"GROQ_API_KEY\")\n",
    "\n",
    "print(\"GROQ_API_KEY loaded:\", GROQ_API_KEY[:4] + \"...\" if GROQ_API_KEY else \"API Key not found\")"
   ]
  },
  {
   "cell_type": "markdown",
   "metadata": {},
   "source": [
    "## SECTION 1: Basic LangGraph + LLM Setup"
   ]
  },
  {
   "cell_type": "markdown",
   "metadata": {},
   "source": [
    "Why it's written:\n",
    "I am using Groq as a backend for LLM inference.\n",
    "\n",
    "ChatGroq connects to Groq's API with a specific model (Gemma2-9b-It).\n",
    "\n",
    "You create an instance llm to interact with the LLM.\n",
    "\n",
    "Note:-\n",
    "You could replace Groq with OpenAI, Mistral, or Claude, depending on your API keys and performance."
   ]
  },
  {
   "cell_type": "code",
   "execution_count": 2,
   "metadata": {},
   "outputs": [],
   "source": [
    "from langchain_groq import ChatGroq\n",
    "llm=ChatGroq(model_name=\"Gemma2-9b-It\")"
   ]
  },
  {
   "cell_type": "markdown",
   "metadata": {},
   "source": [
    "Why it's written:\n",
    "Just sending a string prompt to the LLM and getting the output.\n",
    "\n",
    "Syntax:\n",
    "invoke() is used to send a prompt.\n",
    "\n",
    ".content is used to extract the actual text reply from the LLM’s response object."
   ]
  },
  {
   "cell_type": "code",
   "execution_count": 3,
   "metadata": {},
   "outputs": [
    {
     "name": "stdout",
     "output_type": "stream",
     "text": [
      "Hi! 👋\n",
      "\n",
      "How can I help you today?\n",
      "\n"
     ]
    }
   ],
   "source": [
    "llm_response = llm.invoke(\"hi\").content\n",
    "print(llm_response)"
   ]
  },
  {
   "cell_type": "markdown",
   "metadata": {},
   "source": [
    "## SECTION 2: Create a Simple Workflow with LangGraph"
   ]
  },
  {
   "cell_type": "code",
   "execution_count": 4,
   "metadata": {},
   "outputs": [],
   "source": [
    "from langgraph.graph import StateGraph,MessagesState, START, END\n",
    "from langgraph.graph.message import add_messages\n",
    "from typing import Annotated, Literal, TypedDict\n",
    "from langchain_core.tools import tool\n",
    "from langchain_core.messages import HumanMessage\n",
    "from langgraph.checkpoint.memory import MemorySaver\n",
    "from langgraph.prebuilt import ToolNode"
   ]
  },
  {
   "cell_type": "markdown",
   "metadata": {},
   "source": [
    "Why it's written:\n",
    "\n",
    "Importing key classes and utilities:\n",
    "\n",
    "    StateGraph: To define your workflow.\n",
    "\n",
    "    MessagesState: Built-in dict-like class to track messages between nodes.\n",
    "\n",
    "    START, END: Predefined start/end points in a graph.\n",
    "\n",
    "    tool, ToolNode: Used later for defining tools in the workflow.\n",
    "\n",
    "    MemorySaver: Optional memory checkpointing to retain history."
   ]
  },
  {
   "cell_type": "code",
   "execution_count": 5,
   "metadata": {},
   "outputs": [],
   "source": [
    "def call_model(state: MessagesState):\n",
    "    messages = state['messages']\n",
    "    response = llm.invoke(messages)\n",
    "    return {\"messages\": [response]}"
   ]
  },
  {
   "cell_type": "markdown",
   "metadata": {},
   "source": [
    "Purpose:\n",
    "    Defines a node function in your graph which will:\n",
    "\n",
    "        1) Take in a list of messages\n",
    "\n",
    "        2) Pass it to LLM\n",
    "\n",
    "        3) Return a new message as a dictionary (state)\n",
    "\n",
    "Syntax Note:\n",
    "    \n",
    "    The return must be a dictionary matching the state structure.\n",
    "\n",
    "    Use state['messages'] to retrieve current context."
   ]
  },
  {
   "cell_type": "code",
   "execution_count": 6,
   "metadata": {},
   "outputs": [],
   "source": [
    "workflow=StateGraph(MessagesState)\n",
    "workflow.add_node(\"chatbot\",call_model)\n",
    "workflow.add_edge(START, \"chatbot\")\n",
    "workflow.add_edge(\"chatbot\",END)\n",
    "app=workflow.compile()"
   ]
  },
  {
   "cell_type": "markdown",
   "metadata": {},
   "source": [
    "Why this is written:\n",
    "\n",
    "    Defining a state-based graph with MessagesState.\n",
    "\n",
    "    Adding a single node called chatbot.\n",
    "\n",
    "    Connecting the START → chatbot → END.\n",
    "\n",
    "    Compiling it into a runnable app (app)."
   ]
  },
  {
   "cell_type": "code",
   "execution_count": 7,
   "metadata": {},
   "outputs": [
    {
     "data": {
      "image/png": "[encoded data removed]",
      "text/plain": [
       "<IPython.core.display.Image object>"
      ]
     },
     "metadata": {},
     "output_type": "display_data"
    }
   ],
   "source": [
    "from IPython.display import Image, display\n",
    "display(Image(app.get_graph().draw_mermaid_png()))"
   ]
  },
  {
   "cell_type": "markdown",
   "metadata": {},
   "source": [
    "Purpose:\n",
    "    Shows a graphical representation of the LangGraph workflow (optional)."
   ]
  },
  {
   "cell_type": "code",
   "execution_count": 9,
   "metadata": {},
   "outputs": [],
   "source": [
    "input={\"messages\":[\"hi, my name is Gurmeet Singh\"]}"
   ]
  },
  {
   "cell_type": "code",
   "execution_count": 10,
   "metadata": {},
   "outputs": [
    {
     "data": {
      "text/plain": [
       "{'messages': [HumanMessage(content='hi, my name is Gurmeet Singh', additional_kwargs={}, response_metadata={}, id='62a5a67f-a9ba-461f-965c-23e55d053f40'),\n",
       "  AIMessage(content=\"Hello Gurmeet Singh, it's nice to meet you! 👋\\n\\nWhat can I do for you today?\\n\", additional_kwargs={}, response_metadata={'token_usage': {'completion_tokens': 26, 'prompt_tokens': 17, 'total_tokens': 43, 'completion_time': 0.047272727, 'prompt_time': 0.001931989, 'queue_time': 0.25835218, 'total_time': 0.049204716}, 'model_name': 'Gemma2-9b-It', 'system_fingerprint': 'fp_10c08bf97d', 'finish_reason': 'stop', 'logprobs': None}, id='run--df242929-c71a-4dd5-8f7b-ac5f8a4de360-0', usage_metadata={'input_tokens': 17, 'output_tokens': 26, 'total_tokens': 43})]}"
      ]
     },
     "execution_count": 10,
     "metadata": {},
     "output_type": "execute_result"
    }
   ],
   "source": [
    "app.invoke(input)"
   ]
  },
  {
   "cell_type": "markdown",
   "metadata": {},
   "source": [
    "## SECTION 3: Streaming Output"
   ]
  },
  {
   "cell_type": "code",
   "execution_count": 11,
   "metadata": {},
   "outputs": [
    {
     "name": "stdout",
     "output_type": "stream",
     "text": [
      "Output from chatbot Node\n",
      "_______\n",
      "{'messages': [AIMessage(content=\"Hello Gurmeet Singh, it's nice to meet you! \\n\\nIs there anything I can help you with today?\\n\", additional_kwargs={}, response_metadata={'token_usage': {'completion_tokens': 28, 'prompt_tokens': 17, 'total_tokens': 45, 'completion_time': 0.050909091, 'prompt_time': 0.001922668, 'queue_time': 0.258662942, 'total_time': 0.052831759}, 'model_name': 'Gemma2-9b-It', 'system_fingerprint': 'fp_10c08bf97d', 'finish_reason': 'stop', 'logprobs': None}, id='run--682a6b0d-c7e3-4b87-99d5-6715c2ee2c8e-0', usage_metadata={'input_tokens': 17, 'output_tokens': 28, 'total_tokens': 45})]}\n",
      "\n",
      "\n"
     ]
    }
   ],
   "source": [
    "for output in app.stream(input):\n",
    "    for key,value in output.items():\n",
    "        print(f\"Output from {key} Node\")\n",
    "        print(\"_______\")\n",
    "        print(value)\n",
    "        print(\"\\n\")"
   ]
  },
  {
   "cell_type": "markdown",
   "metadata": {},
   "source": [
    "Why it's written:\n",
    "\n",
    "    Streams intermediate states of the graph.\n",
    "\n",
    "    Helps in debugging and understanding what each node returns."
   ]
  },
  {
   "cell_type": "markdown",
   "metadata": {},
   "source": [
    "##  SECTION 4: Tool Integration"
   ]
  },
  {
   "cell_type": "code",
   "execution_count": 20,
   "metadata": {},
   "outputs": [],
   "source": [
    "@tool\n",
    "def search(query: str):\n",
    "    \"\"\"this is my custom tool.\"\"\"\n",
    "    if \"usa\" in query.lower() or \"us\" in query.lower():\n",
    "        return \"The Grand Canyon is one of the best places to visit in the USA for its breathtaking natural beauty.\"\n",
    "    return \"There are many other places in the world to visit like India, Japan, etc.\""
   ]
  },
  {
   "cell_type": "markdown",
   "metadata": {},
   "source": [
    "Purpose:\n",
    "\n",
    "    Defines a custom tool function (search) that can be called by LLM when needed.\n",
    "\n",
    "    Decorated with @tool so LangChain knows it can be used by the LLM."
   ]
  },
  {
   "cell_type": "markdown",
   "metadata": {},
   "source": [
    "Tool Invocation:"
   ]
  },
  {
   "cell_type": "code",
   "execution_count": 21,
   "metadata": {},
   "outputs": [
    {
     "data": {
      "text/plain": [
       "'The Grand Canyon is one of the best places to visit in the USA for its breathtaking natural beauty.'"
      ]
     },
     "execution_count": 21,
     "metadata": {},
     "output_type": "execute_result"
    }
   ],
   "source": [
    "search.invoke(\"what is a the best place to visit in USA ?\")"
   ]
  },
  {
   "cell_type": "markdown",
   "metadata": {},
   "source": [
    "Test call to see how your tool behaves."
   ]
  },
  {
   "cell_type": "code",
   "execution_count": 23,
   "metadata": {},
   "outputs": [
    {
     "data": {
      "text/plain": [
       "'There are many other places in the world to visit like India, Japan, etc.'"
      ]
     },
     "execution_count": 23,
     "metadata": {},
     "output_type": "execute_result"
    }
   ],
   "source": [
    "search.invoke(\"What are the other countries to visit in the world?\")"
   ]
  },
  {
   "cell_type": "markdown",
   "metadata": {},
   "source": [
    "Test call to see how your tool behaves."
   ]
  },
  {
   "cell_type": "code",
   "execution_count": 24,
   "metadata": {},
   "outputs": [
    {
     "data": {
      "text/plain": [
       "StructuredTool(name='search', description='this is my custom tool.', args_schema=<class 'langchain_core.utils.pydantic.search'>, func=<function search at 0x0000025B882EA050>)"
      ]
     },
     "execution_count": 24,
     "metadata": {},
     "output_type": "execute_result"
    }
   ],
   "source": [
    "search"
   ]
  },
  {
   "cell_type": "markdown",
   "metadata": {},
   "source": [
    "Tool Setup:"
   ]
  },
  {
   "cell_type": "code",
   "execution_count": 25,
   "metadata": {},
   "outputs": [],
   "source": [
    "tools=[search]"
   ]
  },
  {
   "cell_type": "code",
   "execution_count": 26,
   "metadata": {},
   "outputs": [],
   "source": [
    "tool_node=ToolNode(tools)"
   ]
  },
  {
   "cell_type": "code",
   "execution_count": 27,
   "metadata": {},
   "outputs": [],
   "source": [
    "llm_with_tool=llm.bind_tools(tools)"
   ]
  },
  {
   "cell_type": "markdown",
   "metadata": {},
   "source": [
    "Purpose:\n",
    "\n",
    "Wrap tool into a ToolNode so it can be used in a LangGraph node.\n",
    "\n",
    "Bind tools to the LLM so it knows how to call them when needed."
   ]
  },
  {
   "cell_type": "markdown",
   "metadata": {},
   "source": [
    "### Modify call_model to use tools:"
   ]
  },
  {
   "cell_type": "code",
   "execution_count": 28,
   "metadata": {},
   "outputs": [],
   "source": [
    "def call_model(state: MessagesState):\n",
    "    messages = state['messages']\n",
    "    response = llm_with_tool.invoke(messages)\n",
    "    return {\"messages\": [response]}"
   ]
  },
  {
   "cell_type": "code",
   "execution_count": 29,
   "metadata": {},
   "outputs": [],
   "source": [
    "response=call_model({\"messages\": [\"hi how are you?\"]})"
   ]
  },
  {
   "cell_type": "code",
   "execution_count": 30,
   "metadata": {},
   "outputs": [
    {
     "data": {
      "text/plain": [
       "{'messages': [AIMessage(content='', additional_kwargs={'tool_calls': [{'id': 'call_bbqe', 'function': {'arguments': '{\"query\":\"how are you\"}', 'name': 'search'}, 'type': 'function'}]}, response_metadata={'token_usage': {'completion_tokens': 81, 'prompt_tokens': 940, 'total_tokens': 1021, 'completion_time': 0.147272727, 'prompt_time': 0.079598446, 'queue_time': 0.246231194, 'total_time': 0.226871173}, 'model_name': 'Gemma2-9b-It', 'system_fingerprint': 'fp_10c08bf97d', 'finish_reason': 'tool_calls', 'logprobs': None}, id='run--a1a70b90-ddff-4ce9-be15-284563029cc5-0', tool_calls=[{'name': 'search', 'args': {'query': 'how are you'}, 'id': 'call_bbqe', 'type': 'tool_call'}], usage_metadata={'input_tokens': 940, 'output_tokens': 81, 'total_tokens': 1021})]}"
      ]
     },
     "execution_count": 30,
     "metadata": {},
     "output_type": "execute_result"
    }
   ],
   "source": [
    "response"
   ]
  },
  {
   "cell_type": "markdown",
   "metadata": {},
   "source": [
    "{'messages': [AIMessage(content='', additional_kwargs={'tool_calls': [{'id': 'call_bbqe', 'function': {'arguments': '{\"query\":\"how are you\"}', 'name': 'search'}, 'type': 'function'}]}, response_metadata={'token_usage': {'completion_tokens': 81, 'prompt_tokens': 940, 'total_tokens': 1021, 'completion_time': 0.147272727, 'prompt_time': 0.079598446, 'queue_time': 0.246231194, 'total_time': 0.226871173}, 'model_name': 'Gemma2-9b-It', 'system_fingerprint': 'fp_10c08bf97d', 'finish_reason': 'tool_calls', 'logprobs': None}, id='run--a1a70b90-ddff-4ce9-be15-284563029cc5-0', tool_calls=[{'name': 'search', 'args': {'query': 'how are you'}, 'id': 'call_bbqe', 'type': 'tool_call'}], usage_metadata={'input_tokens': 940, 'output_tokens': 81, 'total_tokens': 1021})]}"
   ]
  },
  {
   "cell_type": "code",
   "execution_count": 32,
   "metadata": {},
   "outputs": [],
   "source": [
    "messages = response['messages']"
   ]
  },
  {
   "cell_type": "code",
   "execution_count": 33,
   "metadata": {},
   "outputs": [],
   "source": [
    "last_message=messages[-1]"
   ]
  },
  {
   "cell_type": "code",
   "execution_count": 34,
   "metadata": {},
   "outputs": [
    {
     "data": {
      "text/plain": [
       "[{'name': 'search',\n",
       "  'args': {'query': 'how are you'},\n",
       "  'id': 'call_bbqe',\n",
       "  'type': 'tool_call'}]"
      ]
     },
     "execution_count": 34,
     "metadata": {},
     "output_type": "execute_result"
    }
   ],
   "source": [
    "last_message.tool_calls"
   ]
  },
  {
   "cell_type": "code",
   "execution_count": 35,
   "metadata": {},
   "outputs": [],
   "source": [
    "response=call_model({\"messages\": [\"what is a weather in India?\"]})"
   ]
  },
  {
   "cell_type": "code",
   "execution_count": 36,
   "metadata": {},
   "outputs": [
    {
     "data": {
      "text/plain": [
       "{'messages': [AIMessage(content='', additional_kwargs={'tool_calls': [{'id': 'call_3mkw', 'function': {'arguments': '{\"query\":\"weather in India\"}', 'name': 'search'}, 'type': 'function'}]}, response_metadata={'token_usage': {'completion_tokens': 81, 'prompt_tokens': 942, 'total_tokens': 1023, 'completion_time': 0.147272727, 'prompt_time': 0.033069422, 'queue_time': 0.247366719, 'total_time': 0.180342149}, 'model_name': 'Gemma2-9b-It', 'system_fingerprint': 'fp_10c08bf97d', 'finish_reason': 'tool_calls', 'logprobs': None}, id='run--1ffeca6a-1999-457d-b25d-51b424280b93-0', tool_calls=[{'name': 'search', 'args': {'query': 'weather in India'}, 'id': 'call_3mkw', 'type': 'tool_call'}], usage_metadata={'input_tokens': 942, 'output_tokens': 81, 'total_tokens': 1023})]}"
      ]
     },
     "execution_count": 36,
     "metadata": {},
     "output_type": "execute_result"
    }
   ],
   "source": [
    "response"
   ]
  },
  {
   "cell_type": "markdown",
   "metadata": {},
   "source": [
    "{'messages': [AIMessage(content='', additional_kwargs={'tool_calls': [{'id': 'call_3mkw', 'function': {'arguments': '{\"query\":\"weather in India\"}', 'name': 'search'}, 'type': 'function'}]}, response_metadata={'token_usage': {'completion_tokens': 81, 'prompt_tokens': 942, 'total_tokens': 1023, 'completion_time': 0.147272727, 'prompt_time': 0.033069422, 'queue_time': 0.247366719, 'total_time': 0.180342149}, 'model_name': 'Gemma2-9b-It', 'system_fingerprint': 'fp_10c08bf97d', 'finish_reason': 'tool_calls', 'logprobs': None}, id='run--1ffeca6a-1999-457d-b25d-51b424280b93-0', tool_calls=[{'name': 'search', 'args': {'query': 'weather in India'}, 'id': 'call_3mkw', 'type': 'tool_call'}], usage_metadata={'input_tokens': 942, 'output_tokens': 81, 'total_tokens': 1023})]}"
   ]
  },
  {
   "cell_type": "code",
   "execution_count": 37,
   "metadata": {},
   "outputs": [],
   "source": [
    "messages = response['messages']"
   ]
  },
  {
   "cell_type": "code",
   "execution_count": 38,
   "metadata": {},
   "outputs": [],
   "source": [
    "last_message=messages[-1]"
   ]
  },
  {
   "cell_type": "code",
   "execution_count": 39,
   "metadata": {},
   "outputs": [
    {
     "data": {
      "text/plain": [
       "[{'name': 'search',\n",
       "  'args': {'query': 'weather in India'},\n",
       "  'id': 'call_3mkw',\n",
       "  'type': 'tool_call'}]"
      ]
     },
     "execution_count": 39,
     "metadata": {},
     "output_type": "execute_result"
    }
   ],
   "source": [
    "last_message.tool_calls"
   ]
  },
  {
   "cell_type": "markdown",
   "metadata": {},
   "source": [
    "## SECTION 5: Tool Calls & Routing"
   ]
  },
  {
   "cell_type": "code",
   "execution_count": 40,
   "metadata": {},
   "outputs": [],
   "source": [
    "def router_function(state: MessagesState) -> Literal[\"tools\", END]:\n",
    "    #print(f\"here is a state from should continue {state}\")\n",
    "    messages = state['messages']\n",
    "    last_message = messages[-1]\n",
    "    #print(f\"here is a last message from should continue {last_message}\")\n",
    "    if last_message.tool_calls:\n",
    "        return \"tools\"\n",
    "    return END"
   ]
  },
  {
   "cell_type": "markdown",
   "metadata": {},
   "source": [
    "Purpose:\n",
    "\n",
    "1) Checks if LLM's response requests a tool.\n",
    "\n",
    "2) If yes → route to \"tools\" node.\n",
    "\n",
    "3) Else → finish (END)."
   ]
  },
  {
   "cell_type": "markdown",
   "metadata": {},
   "source": [
    "Define multi-step graph:"
   ]
  },
  {
   "cell_type": "code",
   "execution_count": 41,
   "metadata": {},
   "outputs": [],
   "source": [
    "# Define a new graph\n",
    "workflow = StateGraph(MessagesState)\n",
    "\n",
    "workflow.add_node(\"agent\", call_model)\n",
    "workflow.add_node(\"tools\", tool_node)\n",
    "\n",
    "workflow.add_edge(START, \"agent\")\n",
    "\n",
    "workflow.add_conditional_edges(\"agent\",router_function,{\"tools\": \"tools\", END: END})\n",
    "\n",
    "app = workflow.compile()"
   ]
  },
  {
   "cell_type": "markdown",
   "metadata": {},
   "source": [
    "Flow:\n",
    "\n",
    "START → agent (calls LLM) →\n",
    "\n",
    "if tool is needed → tools → back to agent\n",
    "\n",
    "else → END\n"
   ]
  },
  {
   "cell_type": "code",
   "execution_count": 42,
   "metadata": {},
   "outputs": [
    {
     "data": {
      "image/png": "[encoded data removed]",
      "text/plain": [
       "<IPython.core.display.Image object>"
      ]
     },
     "metadata": {},
     "output_type": "display_data"
    }
   ],
   "source": [
    "from IPython.display import Image, display\n",
    "display(Image(app.get_graph().draw_mermaid_png()))"
   ]
  },
  {
   "cell_type": "code",
   "execution_count": 43,
   "metadata": {},
   "outputs": [
    {
     "data": {
      "text/plain": [
       "{'messages': [HumanMessage(content='hi how are you?', additional_kwargs={}, response_metadata={}, id='26824c7b-c2fc-4e3c-8f5c-11480539a116'),\n",
       "  AIMessage(content='', additional_kwargs={'tool_calls': [{'id': 'call_pa0s', 'function': {'arguments': '{\"query\":\"how are you\"}', 'name': 'search'}, 'type': 'function'}]}, response_metadata={'token_usage': {'completion_tokens': 82, 'prompt_tokens': 940, 'total_tokens': 1022, 'completion_time': 0.149090909, 'prompt_time': 0.032845164, 'queue_time': 0.24592008699999998, 'total_time': 0.181936073}, 'model_name': 'Gemma2-9b-It', 'system_fingerprint': 'fp_10c08bf97d', 'finish_reason': 'tool_calls', 'logprobs': None}, id='run--d6585cb7-3901-4b07-92b5-b9acd2e56b94-0', tool_calls=[{'name': 'search', 'args': {'query': 'how are you'}, 'id': 'call_pa0s', 'type': 'tool_call'}], usage_metadata={'input_tokens': 940, 'output_tokens': 82, 'total_tokens': 1022}),\n",
       "  ToolMessage(content='There are many other places in the world to visit like India, Japan, etc.', name='search', id='669a54df-aa7b-4816-9ee0-5b4c43ce6731', tool_call_id='call_pa0s')]}"
      ]
     },
     "execution_count": 43,
     "metadata": {},
     "output_type": "execute_result"
    }
   ],
   "source": [
    "app.invoke({\"messages\": [\"hi how are you?\"]})"
   ]
  },
  {
   "cell_type": "code",
   "execution_count": 44,
   "metadata": {},
   "outputs": [
    {
     "data": {
      "text/plain": [
       "{'messages': [HumanMessage(content='what is the weather in sf', additional_kwargs={}, response_metadata={}, id='38ee6658-8ad3-4cb2-9380-c54a25a6c7c1'),\n",
       "  AIMessage(content='', additional_kwargs={'tool_calls': [{'id': 'call_8raw', 'function': {'arguments': '{\"query\":\"weather in sf\"}', 'name': 'search'}, 'type': 'function'}]}, response_metadata={'token_usage': {'completion_tokens': 82, 'prompt_tokens': 941, 'total_tokens': 1023, 'completion_time': 0.149090909, 'prompt_time': 0.033032714, 'queue_time': 0.25075097599999996, 'total_time': 0.182123623}, 'model_name': 'Gemma2-9b-It', 'system_fingerprint': 'fp_10c08bf97d', 'finish_reason': 'tool_calls', 'logprobs': None}, id='run--002adac4-8313-4d9a-82c1-b3f80f86eec0-0', tool_calls=[{'name': 'search', 'args': {'query': 'weather in sf'}, 'id': 'call_8raw', 'type': 'tool_call'}], usage_metadata={'input_tokens': 941, 'output_tokens': 82, 'total_tokens': 1023}),\n",
       "  ToolMessage(content='There are many other places in the world to visit like India, Japan, etc.', name='search', id='267a267e-a2fc-48db-9053-1d4247747d01', tool_call_id='call_8raw')]}"
      ]
     },
     "execution_count": 44,
     "metadata": {},
     "output_type": "execute_result"
    }
   ],
   "source": [
    "app.invoke({\"messages\": [\"what is the weather in sf\"]})"
   ]
  },
  {
   "cell_type": "markdown",
   "metadata": {},
   "source": [
    "### Add cycle (tool → agent):"
   ]
  },
  {
   "cell_type": "code",
   "execution_count": 45,
   "metadata": {},
   "outputs": [
    {
     "name": "stderr",
     "output_type": "stream",
     "text": [
      "Adding an edge to a graph that has already been compiled. This will not be reflected in the compiled graph.\n"
     ]
    },
    {
     "data": {
      "text/plain": [
       "<langgraph.graph.state.StateGraph at 0x25b883036a0>"
      ]
     },
     "execution_count": 45,
     "metadata": {},
     "output_type": "execute_result"
    }
   ],
   "source": [
    "workflow.add_edge(\"tools\", 'agent')"
   ]
  },
  {
   "cell_type": "markdown",
   "metadata": {},
   "source": [
    "This allows:\n",
    "\n",
    "After tool execution, return to LLM for next step (like AutoGPT behavior)."
   ]
  },
  {
   "cell_type": "markdown",
   "metadata": {},
   "source": [
    "Compile app:"
   ]
  },
  {
   "cell_type": "code",
   "execution_count": 46,
   "metadata": {},
   "outputs": [],
   "source": [
    "app = workflow.compile()"
   ]
  },
  {
   "cell_type": "code",
   "execution_count": 47,
   "metadata": {},
   "outputs": [
    {
     "data": {
      "image/png": "[encoded data removed]",
      "text/plain": [
       "<IPython.core.display.Image object>"
      ]
     },
     "metadata": {},
     "output_type": "display_data"
    }
   ],
   "source": [
    "from IPython.display import Image, display\n",
    "display(Image(app.get_graph().draw_mermaid_png()))"
   ]
  },
  {
   "cell_type": "markdown",
   "metadata": {},
   "source": [
    "Streaming with Loop:"
   ]
  },
  {
   "cell_type": "code",
   "execution_count": 48,
   "metadata": {},
   "outputs": [
    {
     "name": "stdout",
     "output_type": "stream",
     "text": [
      "here is output from agent\n",
      "_______\n",
      "{'messages': [AIMessage(content='', additional_kwargs={'tool_calls': [{'id': 'call_vz0q', 'function': {'arguments': '{\"query\":\"weather in sf\"}', 'name': 'search'}, 'type': 'function'}]}, response_metadata={'token_usage': {'completion_tokens': 82, 'prompt_tokens': 941, 'total_tokens': 1023, 'completion_time': 0.149090909, 'prompt_time': 0.033122423, 'queue_time': 0.24746610799999996, 'total_time': 0.182213332}, 'model_name': 'Gemma2-9b-It', 'system_fingerprint': 'fp_10c08bf97d', 'finish_reason': 'tool_calls', 'logprobs': None}, id='run--115882c9-cd30-4eb4-b883-6f7a0ff6a36c-0', tool_calls=[{'name': 'search', 'args': {'query': 'weather in sf'}, 'id': 'call_vz0q', 'type': 'tool_call'}], usage_metadata={'input_tokens': 941, 'output_tokens': 82, 'total_tokens': 1023})]}\n",
      "\n",
      "\n",
      "here is output from tools\n",
      "_______\n",
      "{'messages': [ToolMessage(content='There are many other places in the world to visit like India, Japan, etc.', name='search', id='77eed9fb-af5a-4673-836b-527c4ceb66a9', tool_call_id='call_vz0q')]}\n",
      "\n",
      "\n",
      "here is output from agent\n",
      "_______\n",
      "{'messages': [AIMessage(content='', additional_kwargs={'tool_calls': [{'id': 'call_e5nj', 'function': {'arguments': '{\"query\":\"weather in sf\"}', 'name': 'search'}, 'type': 'function'}]}, response_metadata={'token_usage': {'completion_tokens': 41, 'prompt_tokens': 1027, 'total_tokens': 1068, 'completion_time': 0.074545455, 'prompt_time': 0.035946755, 'queue_time': 0.252117424, 'total_time': 0.11049221}, 'model_name': 'Gemma2-9b-It', 'system_fingerprint': 'fp_10c08bf97d', 'finish_reason': 'tool_calls', 'logprobs': None}, id='run--13d33795-81a5-41e9-967c-93a587824188-0', tool_calls=[{'name': 'search', 'args': {'query': 'weather in sf'}, 'id': 'call_e5nj', 'type': 'tool_call'}], usage_metadata={'input_tokens': 1027, 'output_tokens': 41, 'total_tokens': 1068})]}\n",
      "\n",
      "\n",
      "here is output from tools\n",
      "_______\n",
      "{'messages': [ToolMessage(content='There are many other places in the world to visit like India, Japan, etc.', name='search', id='a94789d7-d9f0-4b45-957d-6cb7555cf264', tool_call_id='call_e5nj')]}\n",
      "\n",
      "\n",
      "here is output from agent\n",
      "_______\n",
      "{'messages': [AIMessage(content='', additional_kwargs={'tool_calls': [{'id': 'call_tk8r', 'function': {'arguments': '{\"query\":\"weather in sf\"}', 'name': 'search'}, 'type': 'function'}]}, response_metadata={'token_usage': {'completion_tokens': 72, 'prompt_tokens': 1113, 'total_tokens': 1185, 'completion_time': 0.130909091, 'prompt_time': 0.039126425, 'queue_time': 0.24436622500000002, 'total_time': 0.170035516}, 'model_name': 'Gemma2-9b-It', 'system_fingerprint': 'fp_10c08bf97d', 'finish_reason': 'tool_calls', 'logprobs': None}, id='run--944ad8d6-6123-4e26-87c3-3aab34c5f6a7-0', tool_calls=[{'name': 'search', 'args': {'query': 'weather in sf'}, 'id': 'call_tk8r', 'type': 'tool_call'}], usage_metadata={'input_tokens': 1113, 'output_tokens': 72, 'total_tokens': 1185})]}\n",
      "\n",
      "\n",
      "here is output from tools\n",
      "_______\n",
      "{'messages': [ToolMessage(content='There are many other places in the world to visit like India, Japan, etc.', name='search', id='526b7dd9-6a61-4d90-98bf-6a8af71aafab', tool_call_id='call_tk8r')]}\n",
      "\n",
      "\n",
      "here is output from agent\n",
      "_______\n",
      "{'messages': [AIMessage(content=\"I'm sorry, I need more information to answer your question. \\n\\n\\n\", additional_kwargs={}, response_metadata={'token_usage': {'completion_tokens': 18, 'prompt_tokens': 1199, 'total_tokens': 1217, 'completion_time': 0.032727273, 'prompt_time': 0.051581725, 'queue_time': 0.24454547499999998, 'total_time': 0.084308998}, 'model_name': 'Gemma2-9b-It', 'system_fingerprint': 'fp_10c08bf97d', 'finish_reason': 'stop', 'logprobs': None}, id='run--e3c6b3fe-6e40-4146-a54b-e266dd8cf0b8-0', usage_metadata={'input_tokens': 1199, 'output_tokens': 18, 'total_tokens': 1217})]}\n",
      "\n",
      "\n"
     ]
    }
   ],
   "source": [
    "for output in app.stream({\"messages\": [\"what is the weather in sf\"]}):\n",
    "    for key,value in output.items():\n",
    "        print(f\"here is output from {key}\")\n",
    "        print(\"_______\")\n",
    "        print(value)\n",
    "        print(\"\\n\")"
   ]
  },
  {
   "cell_type": "markdown",
   "metadata": {},
   "source": [
    "## SECTION 6: Adding Memory (State Persistence)"
   ]
  },
  {
   "cell_type": "code",
   "execution_count": 49,
   "metadata": {},
   "outputs": [],
   "source": [
    "from langgraph.checkpoint.memory import MemorySaver\n",
    "\n",
    "memory = MemorySaver()"
   ]
  },
  {
   "cell_type": "markdown",
   "metadata": {},
   "source": [
    "Stores past conversation states.\n",
    "\n",
    "Useful for follow-up memory (e.g., remembering name)."
   ]
  },
  {
   "cell_type": "code",
   "execution_count": 50,
   "metadata": {},
   "outputs": [
    {
     "data": {
      "text/plain": [
       "<langgraph.graph.state.StateGraph at 0x25b88304bb0>"
      ]
     },
     "execution_count": 50,
     "metadata": {},
     "output_type": "execute_result"
    }
   ],
   "source": [
    "# Define a new graph\n",
    "workflow3 = StateGraph(MessagesState)\n",
    "\n",
    "workflow3.add_node(\"agent\", call_model)\n",
    "workflow3.add_node(\"tools\", tool_node)\n",
    "\n",
    "workflow3.add_edge(START, \"agent\")\n",
    "\n",
    "workflow3.add_conditional_edges(\"agent\",router_function,{\"tools\": \"tools\", END: END})\n",
    "\n",
    "workflow3.add_edge(\"tools\", 'agent')"
   ]
  },
  {
   "cell_type": "markdown",
   "metadata": {},
   "source": [
    "Compile with checkpointing:"
   ]
  },
  {
   "cell_type": "code",
   "execution_count": 51,
   "metadata": {},
   "outputs": [],
   "source": [
    "app3 = workflow3.compile(checkpointer = memory)"
   ]
  },
  {
   "cell_type": "code",
   "execution_count": 52,
   "metadata": {},
   "outputs": [
    {
     "data": {
      "image/png": "[encoded data removed]",
      "text/plain": [
       "<IPython.core.display.Image object>"
      ]
     },
     "metadata": {},
     "output_type": "display_data"
    }
   ],
   "source": [
    "from IPython.display import Image, display\n",
    "\n",
    "try:\n",
    "    display(Image(app3.get_graph().draw_mermaid_png()))\n",
    "except Exception:\n",
    "    # This requires some extra dependencies and is optional\n",
    "    pass"
   ]
  },
  {
   "cell_type": "markdown",
   "metadata": {},
   "source": [
    "Configuration for session:"
   ]
  },
  {
   "cell_type": "code",
   "execution_count": 53,
   "metadata": {},
   "outputs": [],
   "source": [
    "config = {\"configurable\": {\"thread_id\": \"1\"}}"
   ]
  },
  {
   "cell_type": "markdown",
   "metadata": {},
   "source": [
    "Multi-turn interaction:"
   ]
  },
  {
   "cell_type": "code",
   "execution_count": 54,
   "metadata": {},
   "outputs": [],
   "source": [
    "events = app3.stream(\n",
    "    {\"messages\": [\"Hi there! My name is Gurmeet Singh.\"]}, config, stream_mode=\"values\"\n",
    ")"
   ]
  },
  {
   "cell_type": "code",
   "execution_count": 55,
   "metadata": {},
   "outputs": [
    {
     "name": "stdout",
     "output_type": "stream",
     "text": [
      "================================\u001b[1m Human Message \u001b[0m=================================\n",
      "\n",
      "Hi there! My name is Gurmeet Singh.\n",
      "==================================\u001b[1m Ai Message \u001b[0m==================================\n",
      "Tool Calls:\n",
      "  search (call_s99p)\n",
      " Call ID: call_s99p\n",
      "  Args:\n",
      "    query: Hi there! My name is Gurmeet Singh.\n",
      "=================================\u001b[1m Tool Message \u001b[0m=================================\n",
      "Name: search\n",
      "\n",
      "There are many other places in the world to visit like India, Japan, etc.\n",
      "==================================\u001b[1m Ai Message \u001b[0m==================================\n",
      "Tool Calls:\n",
      "  search (call_30af)\n",
      " Call ID: call_30af\n",
      "  Args:\n",
      "    query: Gurmeet Singh\n",
      "=================================\u001b[1m Tool Message \u001b[0m=================================\n",
      "Name: search\n",
      "\n",
      "There are many other places in the world to visit like India, Japan, etc.\n",
      "==================================\u001b[1m Ai Message \u001b[0m==================================\n",
      "\n",
      "It seems like you're looking for information about Gurmeet Singh.  Could you tell me more about what you'd like to know?\n"
     ]
    }
   ],
   "source": [
    "for event in events:\n",
    "    event[\"messages\"][-1].pretty_print()"
   ]
  },
  {
   "cell_type": "markdown",
   "metadata": {},
   "source": [
    "Follow-up memory check:"
   ]
  },
  {
   "cell_type": "code",
   "execution_count": 56,
   "metadata": {},
   "outputs": [],
   "source": [
    "events = app3.stream(\n",
    "    {\"messages\": [\"can you tell me what was my name?\"]}, config, stream_mode=\"values\"\n",
    ")"
   ]
  },
  {
   "cell_type": "code",
   "execution_count": 57,
   "metadata": {},
   "outputs": [
    {
     "name": "stdout",
     "output_type": "stream",
     "text": [
      "================================\u001b[1m Human Message \u001b[0m=================================\n",
      "\n",
      "can you tell me what was my name?\n",
      "==================================\u001b[1m Ai Message \u001b[0m==================================\n",
      "\n",
      "Your name is Gurmeet Singh.\n"
     ]
    }
   ],
   "source": [
    "for event in events:\n",
    "    event[\"messages\"][-1].pretty_print()"
   ]
  },
  {
   "cell_type": "markdown",
   "metadata": {},
   "source": [
    "View memory:"
   ]
  },
  {
   "cell_type": "code",
   "execution_count": 58,
   "metadata": {},
   "outputs": [
    {
     "data": {
      "text/plain": [
       "{'v': 3,\n",
       " 'ts': '2025-06-06T10:35:25.521206+00:00',\n",
       " 'id': '1f042c1f-502d-6c23-8008-ae04fe2c7792',\n",
       " 'channel_versions': {'__start__': '00000000000000000000000000000009.0.23387255775373794',\n",
       "  'messages': '00000000000000000000000000000010.0.4180906545251136',\n",
       "  'branch:to:agent': '00000000000000000000000000000010.0.22067031028761996',\n",
       "  'branch:to:tools': '00000000000000000000000000000006.0.7323577486022568'},\n",
       " 'versions_seen': {'__input__': {},\n",
       "  '__start__': {'__start__': '00000000000000000000000000000008.0.8347315103883518'},\n",
       "  'agent': {'branch:to:agent': '00000000000000000000000000000009.0.06702240068988385'},\n",
       "  'tools': {'branch:to:tools': '00000000000000000000000000000005.0.9119150801307234'}},\n",
       " 'channel_values': {'messages': [HumanMessage(content='Hi there! My name is Gurmeet Singh.', additional_kwargs={}, response_metadata={}, id='181c8816-a479-4a82-9833-a35ab7b007cb'),\n",
       "   AIMessage(content='', additional_kwargs={'tool_calls': [{'id': 'call_s99p', 'function': {'arguments': '{\"query\":\"Hi there! My name is Gurmeet Singh.\"}', 'name': 'search'}, 'type': 'function'}]}, response_metadata={'token_usage': {'completion_tokens': 88, 'prompt_tokens': 945, 'total_tokens': 1033, 'completion_time': 0.16, 'prompt_time': 0.034484572, 'queue_time': 0.24987932699999998, 'total_time': 0.194484572}, 'model_name': 'Gemma2-9b-It', 'system_fingerprint': 'fp_10c08bf97d', 'finish_reason': 'tool_calls', 'logprobs': None}, id='run--8d34409c-9533-4633-8197-787bb07718e3-0', tool_calls=[{'name': 'search', 'args': {'query': 'Hi there! My name is Gurmeet Singh.'}, 'id': 'call_s99p', 'type': 'tool_call'}], usage_metadata={'input_tokens': 945, 'output_tokens': 88, 'total_tokens': 1033}),\n",
       "   ToolMessage(content='There are many other places in the world to visit like India, Japan, etc.', name='search', id='521c2e4e-db17-4ed2-a746-7d5676f32446', tool_call_id='call_s99p'),\n",
       "   AIMessage(content='', additional_kwargs={'tool_calls': [{'id': 'call_30af', 'function': {'arguments': '{\"query\":\"Gurmeet Singh\"}', 'name': 'search'}, 'type': 'function'}]}, response_metadata={'token_usage': {'completion_tokens': 46, 'prompt_tokens': 1040, 'total_tokens': 1086, 'completion_time': 0.083636364, 'prompt_time': 0.059392224, 'queue_time': 0.259632453, 'total_time': 0.143028588}, 'model_name': 'Gemma2-9b-It', 'system_fingerprint': 'fp_10c08bf97d', 'finish_reason': 'tool_calls', 'logprobs': None}, id='run--5e8377f4-2c15-4ad7-abdf-445004467c92-0', tool_calls=[{'name': 'search', 'args': {'query': 'Gurmeet Singh'}, 'id': 'call_30af', 'type': 'tool_call'}], usage_metadata={'input_tokens': 1040, 'output_tokens': 46, 'total_tokens': 1086}),\n",
       "   ToolMessage(content='There are many other places in the world to visit like India, Japan, etc.', name='search', id='3e214a14-32f8-452a-8171-777821b8f042', tool_call_id='call_30af'),\n",
       "   AIMessage(content=\"It seems like you're looking for information about Gurmeet Singh.  Could you tell me more about what you'd like to know? \\n\\n\\n\", additional_kwargs={}, response_metadata={'token_usage': {'completion_tokens': 33, 'prompt_tokens': 1126, 'total_tokens': 1159, 'completion_time': 0.06, 'prompt_time': 0.191212612, 'queue_time': 0.487713908, 'total_time': 0.251212612}, 'model_name': 'Gemma2-9b-It', 'system_fingerprint': 'fp_10c08bf97d', 'finish_reason': 'stop', 'logprobs': None}, id='run--9a98f89c-004c-437e-bbd7-1c4e685f5880-0', usage_metadata={'input_tokens': 1126, 'output_tokens': 33, 'total_tokens': 1159}),\n",
       "   HumanMessage(content='can you tell me what was my name?', additional_kwargs={}, response_metadata={}, id='20e74fde-68c3-41af-b3ea-374b0ba6772b'),\n",
       "   AIMessage(content='Your name is Gurmeet Singh.', additional_kwargs={}, response_metadata={'token_usage': {'completion_tokens': 9, 'prompt_tokens': 1176, 'total_tokens': 1185, 'completion_time': 0.016363636, 'prompt_time': 0.041063593, 'queue_time': 0.24914978599999998, 'total_time': 0.057427229}, 'model_name': 'Gemma2-9b-It', 'system_fingerprint': 'fp_10c08bf97d', 'finish_reason': 'stop', 'logprobs': None}, id='run--8997e9a0-35c5-4ce8-8faf-9595d3c684e1-0', usage_metadata={'input_tokens': 1176, 'output_tokens': 9, 'total_tokens': 1185})]},\n",
       " 'pending_sends': []}"
      ]
     },
     "execution_count": 58,
     "metadata": {},
     "output_type": "execute_result"
    }
   ],
   "source": [
    "memory.get(config)"
   ]
  },
  {
   "cell_type": "markdown",
   "metadata": {},
   "source": [
    "Scenarios Covered:\n",
    "\n",
    "1) Simple LLM Graph\n",
    "\n",
    "2) Tool usage\n",
    "\n",
    "3) Conditional routing\n",
    "\n",
    "4) Agent → Tool → Agent cycle (like AutoGPT)\n",
    "\n",
    "5) Memory persistence across sessions"
   ]
  },
  {
   "cell_type": "markdown",
   "metadata": {},
   "source": []
  }
 ],
 "metadata": {
  "kernelspec": {
   "display_name": "Python 3",
   "language": "python",
   "name": "python3"
  },
  "language_info": {
   "codemirror_mode": {
    "name": "ipython",
    "version": 3
   },
   "file_extension": ".py",
   "mimetype": "text/x-python",
   "name": "python",
   "nbconvert_exporter": "python",
   "pygments_lexer": "ipython3",
   "version": "3.10.18"
  }
 },
 "nbformat": 4,
 "nbformat_minor": 2
}
